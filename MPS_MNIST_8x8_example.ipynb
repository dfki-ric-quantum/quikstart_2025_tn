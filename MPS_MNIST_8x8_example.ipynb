{
 "cells": [
  {
   "cell_type": "markdown",
   "id": "181ca4d4-d382-4876-8206-835432fea874",
   "metadata": {},
   "source": [
    "# Training a Matrix Product State\n",
    "\n",
    "In this very simple example, we will train a Matrix Product State in an unsupervised setting, on a simplified $8\\times 8$ version of the MNIST data set of handwritten digits. In this folder you will find a `requirements.txt` file, with which you can install all necessary dependencies to run the code via:\n",
    "```\n",
    "pip install -r requirements.txt\n",
    "```\n",
    "**Note**: This installs jax without support for any GPU/TPU accelerator. If you want to leverage those, follow the instructions [here](https://docs.jax.dev/en/latest/installation.html)."
   ]
  },
  {
   "cell_type": "code",
   "execution_count": 1,
   "id": "b73da2a2-1e57-4775-8242-6593730a6e80",
   "metadata": {},
   "outputs": [],
   "source": [
    "import jax\n",
    "jax.config.update(\"jax_enable_x64\", True)\n",
    "\n",
    "import jax.numpy as jnp\n",
    "import numpy as np\n",
    "import opt_einsum as oe\n",
    "\n",
    "from ml_collections import config_dict\n",
    "from sklearn.datasets import load_digits\n",
    "from sklearn.model_selection import train_test_split\n",
    "\n",
    "from tn_utils.batch import batches\n",
    "from tn_utils.labels import Labels\n",
    "\n",
    "%matplotlib inline\n",
    "import matplotlib.pyplot as plt"
   ]
  },
  {
   "cell_type": "code",
   "execution_count": 2,
   "id": "cfc08c91-6785-4021-b468-1fe509f432e1",
   "metadata": {},
   "outputs": [],
   "source": [
    "SEED = 42\n",
    "\n",
    "COLORS = ['#e41a1c','#377eb8','#4daf4a','#984ea3','#ff7f00']"
   ]
  },
  {
   "cell_type": "markdown",
   "id": "40999a79-c49b-4cb2-8132-6f06a92f418a",
   "metadata": {},
   "source": [
    "We use [ml_collections](https://ml-collections.readthedocs.io/en/latest/), a lightweight library for dict-like objects, to store all configuration for the MPS and the training. This makes passing these things around easy. You might as well use a `@dataclass`, `NamedTuple` or a plain old python dictonary, if you like."
   ]
  },
  {
   "cell_type": "code",
   "execution_count": 3,
   "id": "613fccdd-eabb-4dda-ad50-5365ad332c75",
   "metadata": {},
   "outputs": [],
   "source": [
    "cfg = config_dict.ConfigDict()\n",
    "cfg.bond_dim = 2       # Initial dimensionality of the bonds between MPS tensors\n",
    "cfg.phys_dim = 2       # Physical bond dimension\n",
    "cfg.max_bond = 20      # Maximum bond dimension to truncate to\n",
    "cfg.sigma_min = 0.05   # Minimum singular value threshold to truncate at\n",
    "cfg.lrate = 0.01       # Learning rate\n",
    "cfg.batch_size = 128   # Size of a batch\n",
    "cfg.n_sweeps = 5       # Number of training sweeps (right -> left -> right)"
   ]
  },
  {
   "cell_type": "markdown",
   "id": "f63e2e0f-554f-4e0c-bdfe-7c5900aae1e5",
   "metadata": {},
   "source": [
    "Pseudo-random number generation in `jax` works very differently from e.g., `numpy`. Random numbers are generated with a random key, in a reproducible, parallelizable and vectorizable way. Generating the same amount of random numbers from the same key, will always yield the same result, hence we have to \"split\" the key into multiple new key later. To learn about the details, read [here](https://docs.jax.dev/en/latest/random-numbers.html#pseudorandom-numbers).\n",
    "\n",
    "We initialize a key with the provided random seed."
   ]
  },
  {
   "cell_type": "code",
   "execution_count": 4,
   "id": "b823309f-ba3d-4cb8-baa3-16f2613b4b0b",
   "metadata": {},
   "outputs": [],
   "source": [
    "rnd_key = jax.random.key(SEED)"
   ]
  },
  {
   "cell_type": "markdown",
   "id": "2ed730d9-7ce2-434e-8400-47b7ef48b314",
   "metadata": {},
   "source": [
    "## Loading and preparing data\n",
    "\n",
    "The data set we are going to use, comes as an example data set with sckit-learn. We have:\n",
    "\n",
    "* $8\\times 8$ images of handwritten images in 10 classes (we won't use the labels here)\n",
    "* 1797 images in total\n",
    "* Each feature is an integer between 0 and 16, encoding a gray-scale value\n",
    "\n",
    "We load the data set and convert it to bitstrings, such that every pixel either takes the value $0$ or $1$ first:"
   ]
  },
  {
   "cell_type": "code",
   "execution_count": 5,
   "id": "c83e32cc-9b1c-4d0f-a52c-28b2f0c89452",
   "metadata": {},
   "outputs": [],
   "source": [
    "x, _ = load_digits(return_X_y=True)\n",
    "n_sites = x.shape[1]\n",
    "\n",
    "x = (x > 8).astype(np.uint8)"
   ]
  },
  {
   "cell_type": "markdown",
   "id": "cf69662a-922a-442d-b882-82768e071093",
   "metadata": {},
   "source": [
    "Let's have a look at some:"
   ]
  },
  {
   "cell_type": "code",
   "execution_count": 6,
   "id": "45765eb5-f6a2-494e-a3d9-1f4f92380739",
   "metadata": {},
   "outputs": [
    {
     "data": {
      "image/png": "[encoded data removed]",
      "text/plain": [
       "<Figure size 1500x300 with 20 Axes>"
      ]
     },
     "metadata": {},
     "output_type": "display_data"
    }
   ],
   "source": [
    "fig, ax = plt.subplots(2, 10, figsize=(15, 3))\n",
    "\n",
    "for a, img in zip(ax.ravel(), x[:20]):\n",
    "    a.set_xticks([])\n",
    "    a.set_yticks([])\n",
    "    a.set_aspect('equal')\n",
    "    a.imshow(img.reshape((8,8)), cmap='gist_gray')\n"
   ]
  },
  {
   "cell_type": "markdown",
   "id": "0de66fa3-1a45-44b6-b8b1-b3463e528ba3",
   "metadata": {},
   "source": [
    "Now, in order to use classical data with an MPS, we have to encode it into a quantum state, such that for each sample $\\boldsymbol{x}$ we have a state:\n",
    "\n",
    "\\begin{equation}\n",
    "    |\\boldsymbol{x}\\rangle = |x_1\\rangle \\otimes |x_2\\rangle \\otimes\\cdots\\otimes|x_n\\rangle.\n",
    "\\end{equation}\n",
    "\n",
    "Here we use a simple encoding into the standard/computational basis, converting:\n",
    "\n",
    "\\begin{align}\n",
    "    0 &\\mapsto |0\\rangle \\\\\n",
    "    1 &\\mapsto |1\\rangle\n",
    "\\end{align}"
   ]
  },
  {
   "cell_type": "markdown",
   "id": "4a518e4d-d1a3-4f59-9428-b05269ead523",
   "metadata": {},
   "source": [
    "We apply the `@jax.vmap` decorator twice to the function `basis_encode()` to vectorize it over both axis of our dataset (the first being the samples, the second the features). The function itself operates on a single feature. You can learn more about vectorization in `jax` [here](https://docs.jax.dev/en/latest/automatic-vectorization.html)."
   ]
  },
  {
   "cell_type": "code",
   "execution_count": 7,
   "id": "16a3fa13-1002-4c42-8d21-f9c12ac43993",
   "metadata": {},
   "outputs": [],
   "source": [
    "@jax.vmap\n",
    "@jax.vmap\n",
    "def basis_encode(x: int) -> jax.Array:\n",
    "    return jnp.eye(2)[x]"
   ]
  },
  {
   "cell_type": "code",
   "execution_count": 8,
   "id": "887d482c-3117-4a13-b7a5-a1c3ddee5c64",
   "metadata": {},
   "outputs": [],
   "source": [
    "x = basis_encode(x)"
   ]
  },
  {
   "cell_type": "markdown",
   "id": "785c6a21-13b2-4f0d-ba48-0767036781ea",
   "metadata": {},
   "source": [
    "Finally we plit the dataset into a training set and a test set, with an 80/20 ratio:"
   ]
  },
  {
   "cell_type": "code",
   "execution_count": 9,
   "id": "8bc29565-27ff-477f-be60-7d8d911c6ddc",
   "metadata": {},
   "outputs": [],
   "source": [
    "x_train, x_test = train_test_split(x, test_size=0.2, shuffle=True)"
   ]
  },
  {
   "cell_type": "markdown",
   "id": "609f5920-26f7-41d0-abd6-f5dae90595fe",
   "metadata": {},
   "source": [
    "## Initializing an MPS\n",
    "\n",
    "We first initialize a random MPS with 64 sites:"
   ]
  },
  {
   "cell_type": "code",
   "execution_count": 10,
   "id": "f7ef4e28-1f11-4c6b-8e99-61c5843bc492",
   "metadata": {},
   "outputs": [],
   "source": [
    "rnd_key, *subkeys = jax.random.split(rnd_key, n_sites + 1)\n",
    "bond_dims = [cfg.bond_dim] * (n_sites - 1) + [1]\n",
    "\n",
    "mps = [\n",
    "    jax.random.uniform(sk, (bond_dims[k-1], cfg.phys_dim, bond_dims[k]), minval=-1.0, maxval=1.0)\n",
    "    for k, sk in enumerate(subkeys)\n",
    "]"
   ]
  },
  {
   "cell_type": "markdown",
   "id": "eeea5b96-d1b4-4848-8ca8-8e35e1fd2e7d",
   "metadata": {},
   "source": [
    "### Helper functions\n",
    "\n",
    "There are certain operations, we have to do quite often, to keep the code readable and more succint, we wrap those into some helper functions here. The first is the singular value decomposition of a contracted tensor $C$:\n",
    "\n",
    "\\begin{equation}\n",
    "    C = U\\Sigma V^\\dagger\n",
    "\\end{equation}\n",
    "\n",
    "Which we can visually represent as:\n",
    "\n",
    "<img src=\"img/svd.png\" width=800px>"
   ]
  },
  {
   "cell_type": "code",
   "execution_count": 11,
   "id": "4596e2bc-8a38-4794-b5e7-4375e245647d",
   "metadata": {},
   "outputs": [],
   "source": [
    "def svd(contracted: jax.Array) -> tuple[jax.Array, jax.Array, jax.Array]:\n",
    "    lbond, lpbond, rpbond, rbond = contracted.shape\n",
    "\n",
    "    u, s, v = jnp.linalg.svd(contracted.reshape((lbond * lpbond, rpbond * rbond)), full_matrices=False)\n",
    "    return u, s, v"
   ]
  },
  {
   "cell_type": "markdown",
   "id": "fedd90be-e77d-431b-b34d-d70b020e8298",
   "metadata": {},
   "source": [
    "The second takes $U$ and $\\Sigma$ truncates them to `bond` by discarding all but the first `bond` singular values and computes:\n",
    "\n",
    "\\begin{equation}\n",
    "    r = \\frac{U\\Sigma}{\\|U\\Sigma\\|}\n",
    "\\end{equation}\n",
    "\n",
    "The renormalization ensures, the MPS has unit norm at all times."
   ]
  },
  {
   "cell_type": "code",
   "execution_count": 12,
   "id": "1ec547aa-df67-4ece-9d62-61a5da14a266",
   "metadata": {},
   "outputs": [],
   "source": [
    "def us(u: jax.Array, s: jax.Array, bond: int) -> jax.Array:\n",
    "    result = u[:, :bond] @ jnp.diag(s[:bond])\n",
    "    return result / jnp.linalg.norm(result)"
   ]
  },
  {
   "cell_type": "markdown",
   "id": "9fbe7c1f-a36f-4e7f-9a99-65df517320d3",
   "metadata": {},
   "source": [
    "Similar we have a helper for truncating and computing:\n",
    "\n",
    "\\begin{equation}\n",
    "    r = \\frac{\\Sigma V^\\dagger}{\\|\\Sigma V^\\dagger\\|}\n",
    "\\end{equation}"
   ]
  },
  {
   "cell_type": "code",
   "execution_count": 13,
   "id": "86f15e56-2bba-45bc-8b7f-638c4e23dad8",
   "metadata": {},
   "outputs": [],
   "source": [
    "def sv(s: jax.Array, v: jax.Array, bond: int) -> jax.Array:\n",
    "    result = jnp.diag(s[:bond]) @ v[:bond, :]\n",
    "    return result / jnp.linalg.norm(result)"
   ]
  },
  {
   "cell_type": "markdown",
   "id": "0399901c-27db-4366-9608-33ab671277cd",
   "metadata": {},
   "source": [
    "Finally a helper to compute how many singular values we keep after truncation. The function computes how many singular values are larger than the desired threshold and keeps at most as many as the specified maximum bond dimension."
   ]
  },
  {
   "cell_type": "code",
   "execution_count": 14,
   "id": "526e8373-1b7b-4da0-887b-6c0687529529",
   "metadata": {},
   "outputs": [],
   "source": [
    "def truncate_bond(s: jax.Array, cfg: config_dict.ConfigDict) -> int:\n",
    "    _s = jnp.where(s >= cfg.sigma_min, s, 0.0)\n",
    "    return jnp.maximum(jnp.minimum(jnp.count_nonzero(_s), cfg.max_bond), 2)"
   ]
  },
  {
   "cell_type": "markdown",
   "id": "3870fa7d-1770-48cb-b8a4-d84597a567d7",
   "metadata": {},
   "source": [
    "### Canonicalization\n",
    "\n",
    "Before we start the training, we bring the MPS into _left canonical_ form, that is for all but the right most site we have:\n",
    "\n",
    "<img src=\"img/lc.png\" width=250px>\n",
    "\n",
    "We achieve this, by sweeping from left to right and in each step:\n",
    "\n",
    "* Contract the neighbouring sites\n",
    "* Perform a singular value decomposition\n",
    "* Replace the left site with $U$ and the right with $\\Sigma V^\\dagger$, while controlling trunctation and normalization."
   ]
  },
  {
   "cell_type": "code",
   "execution_count": 15,
   "id": "808fd8f2-d9ad-414e-87f5-0c0c180865d5",
   "metadata": {},
   "outputs": [],
   "source": [
    "for lidx in range(n_sites - 1):\n",
    "    ridx = lidx + 1\n",
    "\n",
    "    contracted = jnp.einsum('abc,cde->abde', mps[lidx], mps[ridx])\n",
    "    lbond, lpbond, rpbond, rbond = contracted.shape\n",
    "\n",
    "    u, s, v = svd(contracted)\n",
    "    bond = truncate_bond(s, cfg)\n",
    "\n",
    "    mps[lidx] = u[:, :bond].reshape((lbond, lpbond, bond))\n",
    "    mps[ridx] = sv(s, v, bond).reshape((bond, rpbond, rbond))"
   ]
  },
  {
   "cell_type": "markdown",
   "id": "04906368-2c47-4451-98c7-367c47745423",
   "metadata": {},
   "source": [
    "## Training\n",
    "\n",
    "Time to train. Firs we define the negative log-likelihood loss function:\n",
    "\n",
    "\\begin{equation}\n",
    "    \\mathcal{L} = -\\frac{1}{|\\mathcal{D}|}\\sum_{\\boldsymbol{x}\\in\\mathcal{D}}\\log \\frac{|\\Psi(\\boldsymbol{x})|^2}{Z}.\n",
    "\\end{equation}\n",
    "\n",
    "Where $Z$ is the partition function $Z=\\sum_{\\boldsymbol{x}\\in\\mathcal{D}}|\\Psi(\\boldsymbol{x})|$ normalizing the probabilities to sum to 1. Since we maintain unit norm for our MPS at all times, we have $Z=1$."
   ]
  },
  {
   "cell_type": "code",
   "execution_count": 16,
   "id": "e3e63812-9fe3-466f-964c-9b4e86228906",
   "metadata": {},
   "outputs": [],
   "source": [
    "def nll(mps: list[jax.Array], labels: Labels, x: jax.Array, cfg: config_dict.ConfigDict) -> float:    \n",
    "    psi_expr = oe.contract_expression(\n",
    "        labels.psi_einsum_str(),\n",
    "        *[t.shape for t in mps],\n",
    "        *[(cfg.phys_dim,)] * len(mps),\n",
    "    )\n",
    "\n",
    "    @jax.vmap\n",
    "    def loss_fn(sample: jax.Array) -> jax.Array:\n",
    "        return psi_expr(*mps, *sample)\n",
    "\n",
    "    psi_values = loss_fn(x)\n",
    "\n",
    "    return jnp.squeeze(-np.log(np.square(np.abs(psi_values))).mean(axis=0))"
   ]
  },
  {
   "cell_type": "markdown",
   "id": "13346b77-7f28-421f-b492-7b6d66b0ab71",
   "metadata": {},
   "source": [
    "The `labels` object maintains all the bond labels and construct einsum strings for the contractions we need. You can find its implementation in `tn_utils/labels.py`:"
   ]
  },
  {
   "cell_type": "code",
   "execution_count": 17,
   "id": "916e477f-b34a-40b9-8a59-ae4a6fbab9d0",
   "metadata": {},
   "outputs": [],
   "source": [
    "labels = Labels(n_sites)"
   ]
  },
  {
   "cell_type": "markdown",
   "id": "485c9cb3-e667-458c-8ace-f35f12c5d480",
   "metadata": {},
   "source": [
    "### Gradient computation\n",
    "\n",
    "In the class below, we leverage several concepts to cumpute the gradient of the loss function with respect to a contracted tensor $C$. First, the gradient is given by:\n",
    "\n",
    "\\begin{equation}\n",
    "    \\nabla_C \\mathcal{L} = \\frac{\\nabla_C Z}{Z} - \\frac{2}{|\\mathcal{D}|}\\sum_{\\boldsymbol{x}\\in\\mathcal{D}}\n",
    "        \\frac{\\nabla_C \\Psi(\\boldsymbol{x})}{\\Psi(\\boldsymbol{x})}.\n",
    "\\end{equation}\n",
    "\n",
    "The _data independent_ part, which we handle in the training loop, is simply (assuming unit norm):\n",
    "\n",
    "\\begin{equation}\n",
    "    \\frac{\\nabla_C Z}{Z} = 2C.\n",
    "\\end{equation}\n",
    "\n",
    "The class below computes the _data dependent part_:\n",
    "\n",
    "\\begin{equation}\n",
    "    \\frac{1}{|\\mathcal{D}|}\\sum_{\\boldsymbol{x}\\in\\mathcal{D}}\n",
    "        \\frac{\\nabla_C \\Psi(\\boldsymbol{x})}{\\Psi(\\boldsymbol{x})}.\n",
    "\\end{equation}\n",
    "\n",
    "To do so, we'd normally have to perform two contractions of the MPS with each data sample, one for the value of $\\Psi(\\boldsymbol{x})$ and one for its gradient. Instead, we will use automatic differentiation for the latter. In detail:\n",
    "\n",
    "* `_psic()` computes $\\Psi(\\boldsymbol{x})$ for a given sample $\\boldsymbol{x}$ with one bond of the MPS currently being contracted.\n",
    "* `_grad()` uses `jax.value_and_grad()` to call `_psi()` and compute its value and gradient with respect to `C`, returning $\\frac{\\nabla_C \\Psi(\\boldsymbol{x})}{\\Psi(\\boldsymbol{x})}$\n",
    "* `__call__()` uses `jax.vmap()` to vectorize calls to `_grad()` over a batch of samples and returns the mean across that batch.\n",
    "\n",
    "Furthermore, the class pre computes the optimal contraction path for this computation with `opt_einsum` in its constructor, since the shape of all tensors involved does not change while we train several batches."
   ]
  },
  {
   "cell_type": "code",
   "execution_count": 18,
   "id": "c682db0f-dce1-435d-98df-4f1df1e8a5d6",
   "metadata": {},
   "outputs": [],
   "source": [
    "class PsiGradient:\n",
    "    def __init__(\n",
    "        self, \n",
    "        mps: list[jax.Array], \n",
    "        labels: Labels,\n",
    "        cbond: tuple[int, int],\n",
    "        cshape: tuple[int, int, int, int],\n",
    "        cfg: config_dict.ConfigDict\n",
    "    ) -> None:\n",
    "        self.mps = mps\n",
    "        self.cbond = cbond\n",
    "        lidx, ridx = cbond\n",
    "        \n",
    "        tshapes = [t.shape for t in mps[:lidx]]\n",
    "        tshapes += [cshape]\n",
    "        tshapes += [t.shape for t in mps[ridx+1:]]\n",
    "        \n",
    "        self.psic_expr = oe.contract_expression(\n",
    "            labels.psic_einsum_str(cbond),\n",
    "            *tshapes,\n",
    "            *[(cfg.phys_dim,)] * len(mps)\n",
    "        )\n",
    "        \n",
    "    def __call__(self, x: jax.Array, contracted: jax.Array) -> jax.Array:\n",
    "        return jax.vmap(self._grad, in_axes=(0, None))(x, contracted).mean(axis=0)\n",
    "\n",
    "    def _grad(self, sample: jax.Array, contracted: jax.Array) -> jax.Array:\n",
    "        psi, psig = jax.value_and_grad(self._psic)(contracted, sample)\n",
    "        return psig / psi\n",
    "\n",
    "    def _psic(self, contracted: jax.Array, sample: jax.Array) -> jax.Array:\n",
    "        lidx, ridx = self.cbond\n",
    "        \n",
    "        return jnp.squeeze(self.psic_expr(\n",
    "            *self.mps[:lidx], contracted, *self.mps[ridx+1:], *sample\n",
    "        ))"
   ]
  },
  {
   "cell_type": "markdown",
   "id": "173d30c0-0629-49ce-a58f-46a188557487",
   "metadata": {},
   "source": [
    "### Training loop\n",
    "\n",
    "Before we finally get to the training loop, let's compute the initial negative log-likelihood loss of the MPS:"
   ]
  },
  {
   "cell_type": "code",
   "execution_count": 19,
   "id": "e67ad96c-cb7e-4cd0-b721-8298fdd110d5",
   "metadata": {},
   "outputs": [
    {
     "name": "stdout",
     "output_type": "stream",
     "text": [
      "Initial loss, training data: 63.3618\n",
      "Initial loss, test data: 62.8993\n"
     ]
    }
   ],
   "source": [
    "train_losses = [nll(mps, labels, x_train, cfg)]\n",
    "test_losses = [nll(mps, labels, x_test, cfg)]\n",
    "print(f\"Initial loss, training data: {train_losses[-1]:.4f}\")\n",
    "print(f\"Initial loss, test data: {test_losses[-1]:.4f}\")"
   ]
  },
  {
   "cell_type": "markdown",
   "id": "611644fb-a65d-48f4-b852-7e722a2cf38b",
   "metadata": {},
   "source": [
    "The training loop is fairly simple (and intentionally kept so) we perform several sweeps over the MPS, each sweep going from right to left and back to right, in each step, we do the following:\n",
    "\n",
    "* Contract the current MPS site with its neighbour\n",
    "* Train the contracted tensor on several mini-batches of data, using stochastic gradient descent\n",
    "* Decompose the contracted tensor using SVD, truncate the bond dimension\n",
    "* Update the tensors that contributed in the contraction with the SVD outcome\n",
    "* Move to the next tensor\n",
    "\n",
    "<img src=\"img/learning.png\" width=700px>"
   ]
  },
  {
   "cell_type": "code",
   "execution_count": 20,
   "id": "24a46b14-94ba-4d39-8e0c-0a8f5ff2e148",
   "metadata": {},
   "outputs": [
    {
     "name": "stdout",
     "output_type": "stream",
     "text": [
      "Starting sweep 1\n",
      "Sweep right to left...\n",
      "Sweep left to right...\n",
      "Loss after sweep 1, test: 24.2907, train: 24.2350\n",
      "Starting sweep 2\n",
      "Sweep right to left...\n",
      "Sweep left to right...\n",
      "Loss after sweep 2, test: 24.8459, train: 24.4816\n",
      "Starting sweep 3\n",
      "Sweep right to left...\n",
      "Sweep left to right...\n",
      "Loss after sweep 3, test: 22.4184, train: 21.8632\n",
      "Starting sweep 4\n",
      "Sweep right to left...\n",
      "Sweep left to right...\n",
      "Loss after sweep 4, test: 22.2402, train: 21.4766\n",
      "Starting sweep 5\n",
      "Sweep right to left...\n",
      "Sweep left to right...\n",
      "Loss after sweep 5, test: 21.7702, train: 21.1961\n"
     ]
    }
   ],
   "source": [
    "for sweep in range(cfg.n_sweeps):\n",
    "    print(f\"Starting sweep {sweep + 1}\")\n",
    "    print(\"Sweep right to left...\")\n",
    "\n",
    "    for ridx in range(n_sites - 1, 0, -1):\n",
    "        lidx = ridx - 1\n",
    "        \n",
    "        contracted = jnp.einsum('abc,cde->abde', mps[lidx], mps[ridx])\n",
    "        lbond, lpbond, rpbond, rbond = contracted.shape\n",
    "        psi_grad = PsiGradient(mps, labels, (lidx, ridx), contracted.shape, cfg)\n",
    "\n",
    "        for batch in batches(x_train, cfg.batch_size):\n",
    "            gradient = 2*(contracted - psi_grad(batch, contracted))\n",
    "            contracted -= cfg.lrate * gradient\n",
    "\n",
    "        u, s, v = svd(contracted)\n",
    "        bond = truncate_bond(s, cfg)\n",
    "\n",
    "        mps[lidx] = us(u, s, bond).reshape((lbond, lpbond, bond))\n",
    "        mps[ridx] = v[:bond, :].reshape((bond, rpbond, rbond))\n",
    "    \n",
    "    print(\"Sweep left to right...\")\n",
    "    \n",
    "    for lidx in range(n_sites - 1):\n",
    "        ridx = lidx + 1\n",
    "        \n",
    "        contracted = jnp.einsum('abc,cde->abde', mps[lidx], mps[ridx])\n",
    "        lbond, lpbond, rpbond, rbond = contracted.shape\n",
    "        psi_grad = PsiGradient(mps, labels, (lidx, ridx), contracted.shape, cfg)\n",
    "    \n",
    "        for batch in batches(x_train, cfg.batch_size):\n",
    "            gradient = 2*(contracted - psi_grad(batch, contracted))\n",
    "            contracted -= cfg.lrate * gradient\n",
    "    \n",
    "        u, s, v = svd(contracted)\n",
    "        bond = truncate_bond(s, cfg)\n",
    "    \n",
    "        mps[lidx] = u[:, :bond].reshape((lbond, lpbond, bond))\n",
    "        mps[ridx] = sv(s, v, bond).reshape((bond, rpbond, rbond))\n",
    "\n",
    "    train_losses.append(nll(mps, labels, x_train, cfg))\n",
    "    test_losses.append(nll(mps, labels, x_test, cfg))\n",
    "    print(f\"Loss after sweep {sweep + 1}, test: {test_losses[-1]:.4f}, train: {train_losses[-1]:.4f}\")\n"
   ]
  },
  {
   "cell_type": "markdown",
   "id": "2457919c-3177-47ec-b6bc-3ebbacf07668",
   "metadata": {},
   "source": [
    "### Evaluation"
   ]
  },
  {
   "cell_type": "markdown",
   "id": "a506b4cc-e6ae-4f83-a8d4-1c4665fe84f2",
   "metadata": {},
   "source": [
    "Get the size of the bonds between the MPS sites:"
   ]
  },
  {
   "cell_type": "code",
   "execution_count": 23,
   "id": "0f9f1a9f-00fe-4930-8910-d5e6efc8893b",
   "metadata": {},
   "outputs": [],
   "source": [
    "bond_dims = [t.shape[-1] for t in mps]"
   ]
  },
  {
   "cell_type": "code",
   "execution_count": 28,
   "id": "bbd8183a-e27d-4989-80c4-b4663d9336bd",
   "metadata": {},
   "outputs": [
    {
     "data": {
      "text/plain": [
       "<matplotlib.colorbar.Colorbar at 0x7fdeef0fec20>"
      ]
     },
     "execution_count": 28,
     "metadata": {},
     "output_type": "execute_result"
    },
    {
     "data": {
      "image/png": "[encoded data removed]",
      "text/plain": [
       "<Figure size 1500x500 with 4 Axes>"
      ]
     },
     "metadata": {},
     "output_type": "display_data"
    }
   ],
   "source": [
    "fig, ax = plt.subplots(1, 3, figsize=(15, 5))\n",
    "\n",
    "ax[0].set_xlabel(\"Sweep\")\n",
    "ax[0].set_ylabel(\"NLL\")\n",
    "ax[0].set_title(\"Training progress\")\n",
    "ax[0].plot(range(cfg.n_sweeps + 1), train_losses, c=COLORS[1], label=\"NLL - Train data\")\n",
    "ax[0].plot(range(cfg.n_sweeps + 1), test_losses, c=COLORS[0], label=\"NLL - Test data\")\n",
    "ax[0].legend()\n",
    "\n",
    "ax[1].set_xlabel(\"Bond\")\n",
    "ax[1].set_ylabel(\"Bond dimension\")\n",
    "ax[1].set_title(\"Final bond dimensions\")\n",
    "ax[1].bar(range(n_sites - 1), bond_dims[:-1], color=COLORS[3])\n",
    "\n",
    "ax[2].set_title(\"Final bond dim. (spatial)\")\n",
    "imbond = ax[2].imshow(np.array(bond_dims).reshape((8,8)), cmap='gist_gray')\n",
    "\n",
    "plt.colorbar(imbond)"
   ]
  },
  {
   "cell_type": "markdown",
   "id": "bf5c4264-f549-4b30-a1c4-a90953545bce",
   "metadata": {},
   "source": [
    "### Sampling from the MPS\n",
    "\n",
    "From the MPS in left-canonical form, we start sampling from the $N$-th site with probability:\n",
    "\n",
    "\\begin{equation*}\n",
    "    P(x_{N}) = |\\boldsymbol{v}^{x_{N}}|^{2},\n",
    "\\end{equation*}\n",
    "with\n",
    "\\begin{equation*}\n",
    "    \\boldsymbol{v}^{x_{N}} = A^{(N)x_{N}}\n",
    "\\end{equation*}\n",
    "\n",
    "Given the bits $x_{k},x_{k+1},\\ldots,x_{N}$, the bit $x_{k-1}$ can be sampled by:\n",
    "\n",
    "\\begin{equation*}\n",
    "    P(x_{k-1}|x_{k},x_{k+1},\\ldots,x_{N})\n",
    "        = \\frac{P(x_{k-1},x_{k},x_{k+1}\\ldots,x_{N})}{P(x_{k},x_{k+1},\\ldots,x_{N})},\n",
    "\\end{equation*}\n",
    "\n",
    "with the marginal distribution\n",
    "\n",
    "\\begin{equation*}\n",
    "    P(x_{k}, x_{k+1}, \\ldots, x_{N}) = |\\boldsymbol{v}^{x_{k}x_{k+1}\\ldots x_{N}}|^{2}\n",
    "\\end{equation*}\n",
    "\n",
    "and\n",
    "\n",
    "\\begin{equation*}\n",
    "    \\boldsymbol{v}^{x_{k}x_{k+1}\\ldots x_{N}} =\n",
    "        \\sum_{\\alpha_{k}, \\alpha_{k+1},\\ldots, \\alpha_{N-1}}\n",
    "            A^{(k)x_{k}}_{\\alpha_{k-1}\\alpha_{k}}A^{(k+1)x_{k+1}}_{\\alpha_{k}\\alpha_{k+1}}\n",
    "            \\cdots\n",
    "            A^{(N)x_{N}}_{\\alpha_{N-1}}.\n",
    "\\end{equation*}\n",
    "\n",
    "<img src=\"img/sample.png\" width=500px>"
   ]
  },
  {
   "cell_type": "code",
   "execution_count": 37,
   "id": "ed560de5-24f9-47d2-8b92-873fb6331d59",
   "metadata": {},
   "outputs": [],
   "source": [
    "def sample(\n",
    "    mps: list[jax.typing.ArrayLike], \n",
    "    rng: np.random.Generator, \n",
    "    n_samples: int = 1\n",
    ") -> np.ndarray:\n",
    "    n_sites = len(mps)\n",
    "    \n",
    "    rand = rng.uniform(size=(n_samples, n_sites))\n",
    "    out = np.empty(shape=(n_samples, n_sites), dtype=np.uint8)\n",
    "    x = np.array([1.0])\n",
    "\n",
    "    for sample in range(n_samples):\n",
    "        for idx in reversed(range(n_sites)):\n",
    "            xa = np.matmul(mps[idx][:, 1, :], x)\n",
    "            sq_norm = (np.linalg.norm(xa) / np.linalg.norm(x)) ** 2\n",
    "\n",
    "            if rand[sample, idx] < sq_norm:\n",
    "                out[sample, idx] = 1\n",
    "                x = xa\n",
    "            else:\n",
    "                out[sample, idx] = 0\n",
    "                x = np.matmul(mps[idx][:, 0, :], x)\n",
    "\n",
    "    return out"
   ]
  },
  {
   "cell_type": "code",
   "execution_count": 38,
   "id": "cc0a033e-0c53-4df1-8b36-962c1a019c53",
   "metadata": {},
   "outputs": [],
   "source": [
    "rng = np.random.default_rng(SEED)\n",
    "samples = sample(mps, rng, n_samples=20)"
   ]
  },
  {
   "cell_type": "code",
   "execution_count": 39,
   "id": "42997307-a4c4-40e6-9147-11d0b1047470",
   "metadata": {},
   "outputs": [
    {
     "data": {
      "image/png": "[encoded data removed]",
      "text/plain": [
       "<Figure size 1500x300 with 20 Axes>"
      ]
     },
     "metadata": {},
     "output_type": "display_data"
    }
   ],
   "source": [
    "fig, ax = plt.subplots(2, 10, figsize=(15, 3))\n",
    "\n",
    "for a, img in zip(ax.ravel(), samples):\n",
    "    a.set_xticks([])\n",
    "    a.set_yticks([])\n",
    "    a.set_aspect('equal')\n",
    "    a.imshow(img.reshape((8,8)), cmap='gist_gray')"
   ]
  }
 ],
 "metadata": {
  "kernelspec": {
   "display_name": "Python 3 (ipykernel)",
   "language": "python",
   "name": "python3"
  },
  "language_info": {
   "codemirror_mode": {
    "name": "ipython",
    "version": 3
   },
   "file_extension": ".py",
   "mimetype": "text/x-python",
   "name": "python",
   "nbconvert_exporter": "python",
   "pygments_lexer": "ipython3",
   "version": "3.13.2"
  }
 },
 "nbformat": 4,
 "nbformat_minor": 5
}
