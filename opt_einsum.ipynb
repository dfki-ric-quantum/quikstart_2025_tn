{
 "cells": [
  {
   "cell_type": "markdown",
   "id": "8483ded9-ab62-4e22-9403-395e767fe43f",
   "metadata": {},
   "source": [
    "# opt_einsum\n",
    "\n",
    "Let's explore the very basics of `opt_einsum`."
   ]
  },
  {
   "cell_type": "code",
   "execution_count": 19,
   "id": "68903c29-5835-429c-b9cf-75a2f7ad693c",
   "metadata": {},
   "outputs": [],
   "source": [
    "from functools import reduce\n",
    "\n",
    "import numpy as np\n",
    "import opt_einsum as oe"
   ]
  },
  {
   "cell_type": "code",
   "execution_count": 6,
   "id": "f35a14a6-d495-48b6-9533-473f86ada166",
   "metadata": {},
   "outputs": [],
   "source": [
    "SEED = 42\n",
    "N_SITES = 100\n",
    "BOND_MIN = 5\n",
    "BOND_MAX = 100\n",
    "PHYS_DIM = 8"
   ]
  },
  {
   "cell_type": "code",
   "execution_count": 3,
   "id": "ce3fe39a-eb7c-4a13-9edf-62e379589ab5",
   "metadata": {},
   "outputs": [],
   "source": [
    "rng = np.random.default_rng(SEED)"
   ]
  },
  {
   "cell_type": "markdown",
   "id": "32e43d8e-acca-412f-a404-50afe82168cd",
   "metadata": {},
   "source": [
    "### Random tensor network\n",
    "\n",
    "First we create a simple random tensor network, a Matrix Product State (MPS) with 100 sites. The bond dimensions are set at random between 5 and 100."
   ]
  },
  {
   "cell_type": "code",
   "execution_count": 10,
   "id": "fb131f47-32b7-421c-b2d8-63724cc5a535",
   "metadata": {},
   "outputs": [],
   "source": [
    "bdims = np.concatenate([rng.integers(low=BOND_MIN, high=BOND_MAX, size=N_SITES-1), np.array([1])])\n",
    "\n",
    "tn = [\n",
    "    rng.uniform(low=-1.0, high=1.0, size=(bdims[k-1], PHYS_DIM, bdims[k])) \n",
    "    for k in range(N_SITES)\n",
    "]"
   ]
  },
  {
   "cell_type": "markdown",
   "id": "a93f6b18-9740-41a9-a244-b4191aca71af",
   "metadata": {},
   "source": [
    "## Computing the norm\n",
    "\n",
    "The example computation here, is the calculation of the norm of the MPS:\n",
    "\n",
    "<img src=\"img/norm.png\" width=500px>"
   ]
  },
  {
   "cell_type": "markdown",
   "id": "3e9ea274-c50b-4b31-bcb1-afebfbbdf884",
   "metadata": {},
   "source": [
    "First we construct the `einsum` string, this is a bit tedious..."
   ]
  },
  {
   "cell_type": "code",
   "execution_count": 11,
   "id": "aea11079-8f4f-4b6e-9a91-4f45bd5595a4",
   "metadata": {},
   "outputs": [],
   "source": [
    "phys_labels = [oe.get_symbol(k) for k in range(N_SITES)]\n",
    "top_labels = [\n",
    "    \"{}{}{}\".format(oe.get_symbol(k), phys_labels[k-N_SITES], oe.get_symbol(k+1))\n",
    "    for k in range(N_SITES, 2*N_SITES)\n",
    "]\n",
    "bottom_labels = [\n",
    "    \"{}{}{}\".format(oe.get_symbol(k), phys_labels[k-2*N_SITES], oe.get_symbol(k+1))\n",
    "    for k in range(2*N_SITES, 3*N_SITES)\n",
    "]\n",
    "\n",
    "einsum_str = \",\".join(top_labels + bottom_labels)"
   ]
  },
  {
   "cell_type": "markdown",
   "id": "8f13ff2b-bd33-4297-b1f3-158652e94c92",
   "metadata": {},
   "source": [
    "In case, you wonder how that looks, here it is:"
   ]
  },
  {
   "cell_type": "code",
   "execution_count": 12,
   "id": "a9ac1290-a199-44a0-b00d-fc1672077546",
   "metadata": {},
   "outputs": [
    {
     "name": "stdout",
     "output_type": "stream",
     "text": [
      "ðañ,ñbò,òcó,ódô,ôeõ,õfö,ög÷,÷hø,øiù,ùjú,úkû,ûlü,ümý,ýnþ,þoÿ,ÿpĀ,Āqā,ārĂ,Ăsă,ătĄ,Ąuą,ąvĆ,Ćwć,ćxĈ,Ĉyĉ,ĉzĊ,ĊAċ,ċBČ,ČCč,čDĎ,ĎEď,ďFĐ,ĐGđ,đHĒ,ĒIē,ēJĔ,ĔKĕ,ĕLĖ,ĖMė,ėNĘ,ĘOę,ęPĚ,ĚQě,ěRĜ,ĜSĝ,ĝTĞ,ĞUğ,ğVĠ,ĠWġ,ġXĢ,ĢYģ,ģZĤ,ĤÀĥ,ĥÁĦ,ĦÂħ,ħÃĨ,ĨÄĩ,ĩÅĪ,ĪÆī,īÇĬ,ĬÈĭ,ĭÉĮ,ĮÊį,įËİ,İÌı,ıÍĲ,ĲÎĳ,ĳÏĴ,ĴÐĵ,ĵÑĶ,ĶÒķ,ķÓĸ,ĸÔĹ,ĹÕĺ,ĺÖĻ,Ļ×ļ,ļØĽ,ĽÙľ,ľÚĿ,ĿÛŀ,ŀÜŁ,ŁÝł,łÞŃ,Ńßń,ńàŅ,Ņáņ,ņâŇ,Ňãň,ňäŉ,ŉåŊ,Ŋæŋ,ŋçŌ,Ōèō,ōéŎ,Ŏêŏ,ŏëŐ,Őìő,őíŒ,Œîœ,œïŔ,Ŕaŕ,ŕbŖ,Ŗcŗ,ŗdŘ,Řeř,řfŚ,Śgś,śhŜ,Ŝiŝ,ŝjŞ,Şkş,şlŠ,Šmš,šnŢ,Ţoţ,ţpŤ,Ťqť,ťrŦ,Ŧsŧ,ŧtŨ,Ũuũ,ũvŪ,Ūwū,ūxŬ,Ŭyŭ,ŭzŮ,ŮAů,ůBŰ,ŰCű,űDŲ,ŲEų,ųFŴ,ŴGŵ,ŵHŶ,ŶIŷ,ŷJŸ,ŸKŹ,ŹLź,źMŻ,ŻNż,żOŽ,ŽPž,žQſ,ſRƀ,ƀSƁ,ƁTƂ,ƂUƃ,ƃVƄ,ƄWƅ,ƅXƆ,ƆYƇ,ƇZƈ,ƈÀƉ,ƉÁƊ,ƊÂƋ,ƋÃƌ,ƌÄƍ,ƍÅƎ,ƎÆƏ,ƏÇƐ,ƐÈƑ,ƑÉƒ,ƒÊƓ,ƓËƔ,ƔÌƕ,ƕÍƖ,ƖÎƗ,ƗÏƘ,ƘÐƙ,ƙÑƚ,ƚÒƛ,ƛÓƜ,ƜÔƝ,ƝÕƞ,ƞÖƟ,Ɵ×Ơ,ƠØơ,ơÙƢ,ƢÚƣ,ƣÛƤ,ƤÜƥ,ƥÝƦ,ƦÞƧ,Ƨßƨ,ƨàƩ,Ʃáƪ,ƪâƫ,ƫãƬ,Ƭäƭ,ƭåƮ,ƮæƯ,Ưçư,ưèƱ,ƱéƲ,ƲêƳ,Ƴëƴ,ƴìƵ,Ƶíƶ,ƶîƷ,ƷïƸ\n"
     ]
    }
   ],
   "source": [
    "print(einsum_str)"
   ]
  },
  {
   "cell_type": "markdown",
   "id": "c0a78995-4bb5-49d7-8d44-e3a42d80a190",
   "metadata": {},
   "source": [
    "## Contraction expressions\n",
    "\n",
    "`opt_einsum` allows us to pre-optimize a contraction expression and reuse it, as long as all the shapes of the TN stay the same (this will come in handy later). First we collect the shapes:"
   ]
  },
  {
   "cell_type": "code",
   "execution_count": 13,
   "id": "339acdd5-6783-4c0a-82e1-c48477a26baa",
   "metadata": {},
   "outputs": [],
   "source": [
    "shapes = [tensor.shape for tensor in tn]"
   ]
  },
  {
   "cell_type": "markdown",
   "id": "d7c58354-bed1-482f-bbca-4b29466badb0",
   "metadata": {},
   "source": [
    "`opt_einsum` selects the best optimization strategy, based on the number of operands in the expression. For an expression this large, it will default to `greedy`, which is a simple heuristic with linear scaling:"
   ]
  },
  {
   "cell_type": "code",
   "execution_count": 16,
   "id": "d1a079b3-7f7a-4e12-ad5d-326ed3315e57",
   "metadata": {},
   "outputs": [
    {
     "name": "stdout",
     "output_type": "stream",
     "text": [
      "10.8 ms ± 275 μs per loop (mean ± std. dev. of 7 runs, 100 loops each)\n"
     ]
    }
   ],
   "source": [
    "%%timeit \n",
    "oe.contract_expression(einsum_str, *shapes, *shapes, memory_limit=-1)"
   ]
  },
  {
   "cell_type": "markdown",
   "id": "999e0d78-98c6-4889-b748-b245ec66dbd8",
   "metadata": {},
   "source": [
    "Let's see how long the actual contraction takes:"
   ]
  },
  {
   "cell_type": "code",
   "execution_count": 17,
   "id": "254739c5-a91d-41b6-a5e6-a678f0f8eac5",
   "metadata": {},
   "outputs": [],
   "source": [
    "expr = oe.contract_expression(einsum_str, *shapes, *shapes, memory_limit=-1)"
   ]
  },
  {
   "cell_type": "code",
   "execution_count": 18,
   "id": "35d4d97a-0f45-4fb1-8f3b-cc0dccf6257f",
   "metadata": {},
   "outputs": [
    {
     "name": "stdout",
     "output_type": "stream",
     "text": [
      "24.5 ms ± 2.09 ms per loop (mean ± std. dev. of 7 runs, 10 loops each)\n"
     ]
    }
   ],
   "source": [
    "%%timeit\n",
    "expr(*tn, *tn)"
   ]
  },
  {
   "cell_type": "markdown",
   "id": "9491ada7-35f9-4473-b8b5-64bf9e06d9df",
   "metadata": {},
   "source": [
    "10.8ms to optimize the contraction path and 24.5ms to execute the actual contraction. If we want to reuse the expression, no additional optimization is necessary."
   ]
  },
  {
   "cell_type": "markdown",
   "id": "4cdf5050-94bf-44eb-ae42-79dedc15dc60",
   "metadata": {},
   "source": [
    "### A naive approach\n",
    "\n",
    "`np.einsum` can't even handle (nearly) as many operands, hence for comparison we are limited to performing it in steps. We contract the following in each iteration of the loop:\n",
    "\n",
    "<img src=\"img/con.png\" width=400px>"
   ]
  },
  {
   "cell_type": "code",
   "execution_count": 23,
   "id": "29f3214f-d440-47ef-aba9-e1874f2d9781",
   "metadata": {},
   "outputs": [
    {
     "name": "stdout",
     "output_type": "stream",
     "text": [
      "16.8 s ± 259 ms per loop (mean ± std. dev. of 7 runs, 1 loop each)\n"
     ]
    }
   ],
   "source": [
    "%%timeit\n",
    "res = np.einsum('abc,abd->cd', tn[0], tn[0])\n",
    "for t in zip(tn[1:], tn[1:]):\n",
    "   res = np.einsum('ab,acd,bce->de', res, t[0], t[1]) "
   ]
  },
  {
   "cell_type": "markdown",
   "id": "f4f210c4-8be6-4fde-a1f3-f60f1d1403f8",
   "metadata": {},
   "source": [
    "16.8s vs. 24.5ms, the naive approach takes about 685 times as long! Python loops aren't known to be particularly fast (although much improved in recent python versions). Let's try with `reduce`:"
   ]
  },
  {
   "cell_type": "code",
   "execution_count": 25,
   "id": "268818af-1210-40a0-b70a-dd2cc44caf9f",
   "metadata": {},
   "outputs": [],
   "source": [
    "def contract(left, tensors):\n",
    "    return np.einsum('ab,acd,bce->de', left, *tensors)"
   ]
  },
  {
   "cell_type": "code",
   "execution_count": 26,
   "id": "4483a9a6-ffde-416b-af58-dbf5a0af518e",
   "metadata": {},
   "outputs": [
    {
     "name": "stdout",
     "output_type": "stream",
     "text": [
      "16.9 s ± 208 ms per loop (mean ± std. dev. of 7 runs, 1 loop each)\n"
     ]
    }
   ],
   "source": [
    "%%timeit\n",
    "res = np.einsum('abc,abd->cd', tn[0], tn[0])\n",
    "res = reduce(contract, zip(tn[1:], tn[1:]), res)"
   ]
  },
  {
   "cell_type": "markdown",
   "id": "29f94f75-de90-447e-be13-c3361612f20e",
   "metadata": {},
   "source": [
    "That's about the same..."
   ]
  },
  {
   "cell_type": "markdown",
   "id": "70ce3a62-15b5-4291-a974-21cec08ddaae",
   "metadata": {},
   "source": [
    "## More details on the contraction path\n",
    "\n",
    "`opt_einsum` can tell us how much work it avoids in theory by optimizing the contraction path:"
   ]
  },
  {
   "cell_type": "code",
   "execution_count": 31,
   "id": "1b16329f-7402-4cc3-869a-945ec93dbe17",
   "metadata": {},
   "outputs": [
    {
     "name": "stdout",
     "output_type": "stream",
     "text": [
      "  Complete contraction:  ðañ,ñbò,òcó,ódô,ôeõ,õfö,ög÷,÷hø,øiù,ùjú,úkû,ûlü,ümý,ýnþ,þoÿ,ÿpĀ,Āqā,ārĂ,Ăsă,ătĄ,Ąuą,ąvĆ,Ćwć,ćxĈ,Ĉyĉ,ĉzĊ,ĊAċ,ċBČ,ČCč,čDĎ,ĎEď,ďFĐ,ĐGđ,đHĒ,ĒIē,ēJĔ,ĔKĕ,ĕLĖ,ĖMė,ėNĘ,ĘOę,ęPĚ,ĚQě,ěRĜ,ĜSĝ,ĝTĞ,ĞUğ,ğVĠ,ĠWġ,ġXĢ,ĢYģ,ģZĤ,ĤÀĥ,ĥÁĦ,ĦÂħ,ħÃĨ,ĨÄĩ,ĩÅĪ,ĪÆī,īÇĬ,ĬÈĭ,ĭÉĮ,ĮÊį,įËİ,İÌı,ıÍĲ,ĲÎĳ,ĳÏĴ,ĴÐĵ,ĵÑĶ,ĶÒķ,ķÓĸ,ĸÔĹ,ĹÕĺ,ĺÖĻ,Ļ×ļ,ļØĽ,ĽÙľ,ľÚĿ,ĿÛŀ,ŀÜŁ,ŁÝł,łÞŃ,Ńßń,ńàŅ,Ņáņ,ņâŇ,Ňãň,ňäŉ,ŉåŊ,Ŋæŋ,ŋçŌ,Ōèō,ōéŎ,Ŏêŏ,ŏëŐ,Őìő,őíŒ,Œîœ,œïŔ,Ŕaŕ,ŕbŖ,Ŗcŗ,ŗdŘ,Řeř,řfŚ,Śgś,śhŜ,Ŝiŝ,ŝjŞ,Şkş,şlŠ,Šmš,šnŢ,Ţoţ,ţpŤ,Ťqť,ťrŦ,Ŧsŧ,ŧtŨ,Ũuũ,ũvŪ,Ūwū,ūxŬ,Ŭyŭ,ŭzŮ,ŮAů,ůBŰ,ŰCű,űDŲ,ŲEų,ųFŴ,ŴGŵ,ŵHŶ,ŶIŷ,ŷJŸ,ŸKŹ,ŹLź,źMŻ,ŻNż,żOŽ,ŽPž,žQſ,ſRƀ,ƀSƁ,ƁTƂ,ƂUƃ,ƃVƄ,ƄWƅ,ƅXƆ,ƆYƇ,ƇZƈ,ƈÀƉ,ƉÁƊ,ƊÂƋ,ƋÃƌ,ƌÄƍ,ƍÅƎ,ƎÆƏ,ƏÇƐ,ƐÈƑ,ƑÉƒ,ƒÊƓ,ƓËƔ,ƔÌƕ,ƕÍƖ,ƖÎƗ,ƗÏƘ,ƘÐƙ,ƙÑƚ,ƚÒƛ,ƛÓƜ,ƜÔƝ,ƝÕƞ,ƞÖƟ,Ɵ×Ơ,ƠØơ,ơÙƢ,ƢÚƣ,ƣÛƤ,ƤÜƥ,ƥÝƦ,ƦÞƧ,Ƨßƨ,ƨàƩ,Ʃáƪ,ƪâƫ,ƫãƬ,Ƭäƭ,ƭåƮ,ƮæƯ,Ưçư,ưèƱ,ƱéƲ,ƲêƳ,Ƴëƴ,ƴìƵ,Ƶíƶ,ƶîƷ,ƷïƸ->ðƸ\n",
      "         Naive scaling:  301\n",
      "     Optimized scaling:  7\n",
      "      Naive FLOP count:  1.810e+417\n",
      "  Optimized FLOP count:  6.510e+8\n",
      "   Theoretical speedup:  2.781e+408\n",
      "  Largest intermediate:  7.207e+4 elements\n",
      "--------------------------------------------------------------------------------\n",
      "scaling        BLAS                current                             remaining\n",
      "--------------------------------------------------------------------------------\n",
      "   5           GEMM          ñbò,ðañ->bòða                                   ...\n",
      "   5           GEMM          ŕbŖ,Ŕaŕ->bŖŔa                                   ...\n",
      "   5           GEMM          ĎEď,čDĎ->EďčD                                   ...\n",
      "   5           GEMM          ŲEų,űDŲ->EųűD                                   ...\n",
      "   5           GEMM          Őìő,ŏëŐ->ìőŏë                                   ...\n",
      "   5           GEMM          ƴìƵ,Ƴëƴ->ìƵƳë                                   ...\n",
      "   5           GEMM          Ŏêŏ,ōéŎ->êŏōé                                   ...\n",
      "   5           GEMM          ƲêƳ,ƱéƲ->êƳƱé                                   ...\n",
      "   6           TDOT        bòða,òcó->bðacó                                   ...\n",
      "   6           TDOT        bŖŔa,Ŗcŗ->bŔacŗ                                   ...\n",
      "   7           TDOT      bŔacŗ,bðacó->Ŕŗðó                                   ...\n",
      "   5           GEMM          įËİ,ĮÊį->ËİĮÊ                                   ...\n",
      "   5           GEMM          ƓËƔ,ƒÊƓ->ËƔƒÊ                                   ...\n",
      "   5           GEMM          ûlü,úkû->lüúk                                   ...\n",
      "   5           GEMM          şlŠ,Şkş->lŠŞk                                   ...\n",
      "   5           GEMM          œïŔ,Œîœ->ïŔŒî                                   ...\n",
      "   5           GEMM          ƷïƸ,ƶîƷ->ïƸƶî                                   ...\n",
      "   6           TDOT        ïƸƶî,ïŔŒî->ƸƶŔŒ                                   ...\n",
      "   6           GEMM        ƸƶŔŒ,őíŒ->ƸƶŔőí                                   ...\n",
      "   6           TDOT        ƸƶŔőí,Ƶíƶ->ƸŔőƵ                                   ...\n",
      "   7           TDOT      ƸŔőƵ,ìőŏë->ƸŔƵìŏë                                   ...\n",
      "   7           TDOT      ƸŔƵìŏë,ìƵƳë->ƸŔŏƳ                                   ...\n",
      "   5           GEMM          ĔKĕ,ēJĔ->KĕēJ                                   ...\n",
      "   5           GEMM          ŸKŹ,ŷJŸ->KŹŷJ                                   ...\n",
      "   6           GEMM        Ŕŗðó,ódô->Ŕŗðdô                                   ...\n",
      "   6           TDOT        Ŕŗðdô,ŗdŘ->ŔðôŘ                                   ...\n",
      "   6           TDOT        ŔðôŘ,ôeõ->ŔðŘeõ                                   ...\n",
      "   6           TDOT        ŔðŘeõ,Řeř->Ŕðõř                                   ...\n",
      "   6           TDOT        Ŕðõř,õfö->Ŕðřfö                                   ...\n",
      "   6           TDOT        Ŕðřfö,řfŚ->ŔðöŚ                                   ...\n",
      "   6           TDOT        ŔðöŚ,ög÷->ŔðŚg÷                                   ...\n",
      "   6           TDOT        ŔðŚg÷,Śgś->Ŕð÷ś                                   ...\n",
      "   6           TDOT        Ŕð÷ś,÷hø->Ŕðśhø                                   ...\n",
      "   6           TDOT        Ŕðśhø,śhŜ->ŔðøŜ                                   ...\n",
      "   6           TDOT        ŔðøŜ,øiù->ŔðŜiù                                   ...\n",
      "   6           TDOT        ŔðŜiù,Ŝiŝ->Ŕðùŝ                                   ...\n",
      "   6           TDOT        Ŕðùŝ,ùjú->Ŕðŝjú                                   ...\n",
      "   6           TDOT        Ŕðŝjú,ŝjŞ->ŔðúŞ                                   ...\n",
      "   7           TDOT      ŔðúŞ,lüúk->ŔðŞlük                                   ...\n",
      "   7           TDOT      ŔðŞlük,lŠŞk->ŔðüŠ                                   ...\n",
      "   6           TDOT        ŔðüŠ,ümý->ŔðŠmý                                   ...\n",
      "   6           TDOT        ŔðŠmý,Šmš->Ŕðýš                                   ...\n",
      "   6           TDOT        Ŕðýš,ýnþ->Ŕðšnþ                                   ...\n",
      "   6           TDOT        Ŕðšnþ,šnŢ->ŔðþŢ                                   ...\n",
      "   6           TDOT        ŔðþŢ,þoÿ->ŔðŢoÿ                                   ...\n",
      "   6           TDOT        ŔðŢoÿ,Ţoţ->Ŕðÿţ                                   ...\n",
      "   6           TDOT        Ŕðÿţ,ÿpĀ->ŔðţpĀ                                   ...\n",
      "   6           TDOT        ŔðţpĀ,ţpŤ->ŔðĀŤ                                   ...\n",
      "   6           TDOT        ŔðĀŤ,Āqā->ŔðŤqā                                   ...\n",
      "   6           TDOT        ŔðŤqā,Ťqť->Ŕðāť                                   ...\n",
      "   6           TDOT        Ŕðāť,ārĂ->ŔðťrĂ                                   ...\n",
      "   6           TDOT        ŔðťrĂ,ťrŦ->ŔðĂŦ                                   ...\n",
      "   6           TDOT        ŔðĂŦ,Ăsă->ŔðŦsă                                   ...\n",
      "   6           TDOT        ŔðŦsă,Ŧsŧ->Ŕðăŧ                                   ...\n",
      "   6           TDOT        Ŕðăŧ,ătĄ->ŔðŧtĄ                                   ...\n",
      "   6           TDOT        ŔðŧtĄ,ŧtŨ->ŔðĄŨ                                   ...\n",
      "   6           TDOT        ŔðĄŨ,Ąuą->ŔðŨuą                                   ...\n",
      "   6           TDOT        ŔðŨuą,Ũuũ->Ŕðąũ                                   ...\n",
      "   6           TDOT        Ŕðąũ,ąvĆ->ŔðũvĆ                                   ...\n",
      "   6           TDOT        ŔðũvĆ,ũvŪ->ŔðĆŪ                                   ...\n",
      "   6           TDOT        ŔðĆŪ,Ćwć->ŔðŪwć                                   ...\n",
      "   6           TDOT        ŔðŪwć,Ūwū->Ŕðćū                                   ...\n",
      "   6           TDOT        Ŕðćū,ćxĈ->ŔðūxĈ                                   ...\n",
      "   6           TDOT        ŔðūxĈ,ūxŬ->ŔðĈŬ                                   ...\n",
      "   6           TDOT        ŔðĈŬ,Ĉyĉ->ŔðŬyĉ                                   ...\n",
      "   6           TDOT        ŔðŬyĉ,Ŭyŭ->Ŕðĉŭ                                   ...\n",
      "   6           TDOT        Ŕðĉŭ,ĉzĊ->ŔðŭzĊ                                   ...\n",
      "   6           TDOT        ŔðŭzĊ,ŭzŮ->ŔðĊŮ                                   ...\n",
      "   6           TDOT        ŔðĊŮ,ĊAċ->ŔðŮAċ                                   ...\n",
      "   6           TDOT        ŔðŮAċ,ŮAů->Ŕðċů                                   ...\n",
      "   6           TDOT        Ŕðċů,ċBČ->ŔðůBČ                                   ...\n",
      "   6           TDOT        ŔðůBČ,ůBŰ->ŔðČŰ                                   ...\n",
      "   6           TDOT        ŔðČŰ,ČCč->ŔðŰCč                                   ...\n",
      "   6           TDOT        ŔðŰCč,ŰCű->Ŕðčű                                   ...\n",
      "   7           TDOT      Ŕðčű,EďčD->ŔðűEďD                                   ...\n",
      "   7           TDOT      ŔðűEďD,EųűD->Ŕðďų                                   ...\n",
      "   6           TDOT        Ŕðďų,ďFĐ->ŔðųFĐ                                   ...\n",
      "   6           TDOT        ŔðųFĐ,ųFŴ->ŔðĐŴ                                   ...\n",
      "   6           TDOT        ŔðĐŴ,ĐGđ->ŔðŴGđ                                   ...\n",
      "   6           TDOT        ŔðŴGđ,ŴGŵ->Ŕðđŵ                                   ...\n",
      "   6           TDOT        Ŕðđŵ,đHĒ->ŔðŵHĒ                                   ...\n",
      "   6           TDOT        ŔðŵHĒ,ŵHŶ->ŔðĒŶ                                   ...\n",
      "   6           TDOT        ŔðĒŶ,ĒIē->ŔðŶIē                                   ...\n",
      "   6           TDOT        ŔðŶIē,ŶIŷ->Ŕðēŷ                                   ...\n",
      "   7           TDOT      Ŕðēŷ,KĕēJ->ŔðŷKĕJ                                   ...\n",
      "   7           TDOT      ŔðŷKĕJ,KŹŷJ->ŔðĕŹ                                   ...\n",
      "   6           TDOT        ŔðĕŹ,ĕLĖ->ŔðŹLĖ                                   ...\n",
      "   6           TDOT        ŔðŹLĖ,ŹLź->ŔðĖź                                   ...\n",
      "   6           TDOT        ŔðĖź,ĖMė->ŔðźMė                                   ...\n",
      "   6           TDOT        ŔðźMė,źMŻ->ŔðėŻ                                   ...\n",
      "   6           TDOT        ŔðėŻ,ėNĘ->ŔðŻNĘ                                   ...\n",
      "   6           TDOT        ŔðŻNĘ,ŻNż->ŔðĘż                                   ...\n",
      "   6           TDOT        ŔðĘż,ĘOę->ŔðżOę                                   ...\n",
      "   6           TDOT        ŔðżOę,żOŽ->ŔðęŽ                                   ...\n",
      "   6           TDOT        ŔðęŽ,ęPĚ->ŔðŽPĚ                                   ...\n",
      "   6           TDOT        ŔðŽPĚ,ŽPž->ŔðĚž                                   ...\n",
      "   6           TDOT        ŔðĚž,ĚQě->ŔðžQě                                   ...\n",
      "   6           TDOT        ŔðžQě,žQſ->Ŕðěſ                                   ...\n",
      "   6           TDOT        Ŕðěſ,ěRĜ->ŔðſRĜ                                   ...\n",
      "   6           TDOT        ŔðſRĜ,ſRƀ->ŔðĜƀ                                   ...\n",
      "   6           TDOT        ŔðĜƀ,ĜSĝ->ŔðƀSĝ                                   ...\n",
      "   6           TDOT        ŔðƀSĝ,ƀSƁ->ŔðĝƁ                                   ...\n",
      "   6           TDOT        ŔðĝƁ,ĝTĞ->ŔðƁTĞ                                   ...\n",
      "   6           TDOT        ŔðƁTĞ,ƁTƂ->ŔðĞƂ                                   ...\n",
      "   6           TDOT        ŔðĞƂ,ĞUğ->ŔðƂUğ                                   ...\n",
      "   6           TDOT        ŔðƂUğ,ƂUƃ->Ŕðğƃ                                   ...\n",
      "   6           TDOT        Ŕðğƃ,ğVĠ->ŔðƃVĠ                                   ...\n",
      "   6           TDOT        ŔðƃVĠ,ƃVƄ->ŔðĠƄ                                   ...\n",
      "   6           TDOT        ŔðĠƄ,ĠWġ->ŔðƄWġ                                   ...\n",
      "   6           TDOT        ŔðƄWġ,ƄWƅ->Ŕðġƅ                                   ...\n",
      "   6           TDOT        Ŕðġƅ,ġXĢ->ŔðƅXĢ                                   ...\n",
      "   6           TDOT        ŔðƅXĢ,ƅXƆ->ŔðĢƆ                                   ...\n",
      "   6           TDOT        ŔðĢƆ,ĢYģ->ŔðƆYģ                                   ...\n",
      "   6           TDOT        ŔðƆYģ,ƆYƇ->ŔðģƇ                                   ...\n",
      "   6           TDOT        ŔðģƇ,ģZĤ->ŔðƇZĤ                                   ...\n",
      "   6           TDOT        ŔðƇZĤ,ƇZƈ->ŔðĤƈ                                   ...\n",
      "   6           TDOT        ŔðĤƈ,ĤÀĥ->ŔðƈÀĥ                                   ...\n",
      "   6           TDOT        ŔðƈÀĥ,ƈÀƉ->ŔðĥƉ                                   ...\n",
      "   6           TDOT        ŔðĥƉ,ĥÁĦ->ŔðƉÁĦ                                   ...\n",
      "   6           TDOT        ŔðƉÁĦ,ƉÁƊ->ŔðĦƊ                                   ...\n",
      "   6           TDOT        ŔðĦƊ,ĦÂħ->ŔðƊÂħ                                   ...\n",
      "   6           TDOT        ŔðƊÂħ,ƊÂƋ->ŔðħƋ                                   ...\n",
      "   6           TDOT        ŔðħƋ,ħÃĨ->ŔðƋÃĨ                                   ...\n",
      "   6           TDOT        ŔðƋÃĨ,ƋÃƌ->ŔðĨƌ                                   ...\n",
      "   6           TDOT        ŔðĨƌ,ĨÄĩ->ŔðƌÄĩ                                   ...\n",
      "   6           TDOT        ŔðƌÄĩ,ƌÄƍ->Ŕðĩƍ                                   ...\n",
      "   6           TDOT        Ŕðĩƍ,ĩÅĪ->ŔðƍÅĪ                                   ...\n",
      "   6           TDOT        ŔðƍÅĪ,ƍÅƎ->ŔðĪƎ                                   ...\n",
      "   6           TDOT        ŔðĪƎ,ĪÆī->ŔðƎÆī                                   ...\n",
      "   6           TDOT        ŔðƎÆī,ƎÆƏ->ŔðīƏ                                   ...\n",
      "   6           TDOT        ŔðīƏ,īÇĬ->ŔðƏÇĬ                                   ...\n",
      "   6           TDOT        ŔðƏÇĬ,ƏÇƐ->ŔðĬƐ                                   ...\n",
      "   6           TDOT        ŔðĬƐ,ĬÈĭ->ŔðƐÈĭ                                   ...\n",
      "   6           TDOT        ŔðƐÈĭ,ƐÈƑ->ŔðĭƑ                                   ...\n",
      "   6           TDOT        ŔðĭƑ,ĭÉĮ->ŔðƑÉĮ                                   ...\n",
      "   6           TDOT        ŔðƑÉĮ,ƑÉƒ->ŔðĮƒ                                   ...\n",
      "   7           TDOT      ŔðĮƒ,ËİĮÊ->ŔðƒËİÊ                                   ...\n",
      "   7           TDOT      ŔðƒËİÊ,ËƔƒÊ->ŔðİƔ                                   ...\n",
      "   6           TDOT        ŔðİƔ,İÌı->ŔðƔÌı                                   ...\n",
      "   6           TDOT        ŔðƔÌı,ƔÌƕ->Ŕðıƕ                                   ...\n",
      "   6           TDOT        Ŕðıƕ,ıÍĲ->ŔðƕÍĲ                                   ...\n",
      "   6           TDOT        ŔðƕÍĲ,ƕÍƖ->ŔðĲƖ                                   ...\n",
      "   6           TDOT        ŔðĲƖ,ĲÎĳ->ŔðƖÎĳ                                   ...\n",
      "   6           TDOT        ŔðƖÎĳ,ƖÎƗ->ŔðĳƗ                                   ...\n",
      "   6           TDOT        ŔðĳƗ,ĳÏĴ->ŔðƗÏĴ                                   ...\n",
      "   6           TDOT        ŔðƗÏĴ,ƗÏƘ->ŔðĴƘ                                   ...\n",
      "   6           TDOT        ŔðĴƘ,ĴÐĵ->ŔðƘÐĵ                                   ...\n",
      "   6           TDOT        ŔðƘÐĵ,ƘÐƙ->Ŕðĵƙ                                   ...\n",
      "   6           TDOT        Ŕðĵƙ,ĵÑĶ->ŔðƙÑĶ                                   ...\n",
      "   6           TDOT        ŔðƙÑĶ,ƙÑƚ->ŔðĶƚ                                   ...\n",
      "   6           TDOT        ŔðĶƚ,ĶÒķ->ŔðƚÒķ                                   ...\n",
      "   6           TDOT        ŔðƚÒķ,ƚÒƛ->Ŕðķƛ                                   ...\n",
      "   6           TDOT        Ŕðķƛ,ķÓĸ->ŔðƛÓĸ                                   ...\n",
      "   6           TDOT        ŔðƛÓĸ,ƛÓƜ->ŔðĸƜ                                   ...\n",
      "   6           TDOT        ŔðĸƜ,ĸÔĹ->ŔðƜÔĹ                                   ...\n",
      "   6           TDOT        ŔðƜÔĹ,ƜÔƝ->ŔðĹƝ                                   ...\n",
      "   6           TDOT        ŔðĹƝ,ĹÕĺ->ŔðƝÕĺ                                   ...\n",
      "   6           TDOT        ŔðƝÕĺ,ƝÕƞ->Ŕðĺƞ                                   ...\n",
      "   6           TDOT        Ŕðĺƞ,ĺÖĻ->ŔðƞÖĻ                                   ...\n",
      "   6           TDOT        ŔðƞÖĻ,ƞÖƟ->ŔðĻƟ                                   ...\n",
      "   6           TDOT        ŔðĻƟ,Ļ×ļ->ŔðƟ×ļ                                   ...\n",
      "   6           TDOT        ŔðƟ×ļ,Ɵ×Ơ->ŔðļƠ                                   ...\n",
      "   6           TDOT        ŔðļƠ,ļØĽ->ŔðƠØĽ                                   ...\n",
      "   6           TDOT        ŔðƠØĽ,ƠØơ->ŔðĽơ                                   ...\n",
      "   6           TDOT        ŔðĽơ,ĽÙľ->ŔðơÙľ                                   ...\n",
      "   6           TDOT        ŔðơÙľ,ơÙƢ->ŔðľƢ                                   ...\n",
      "   6           TDOT        ŔðľƢ,ľÚĿ->ŔðƢÚĿ                                   ...\n",
      "   6           TDOT        ŔðƢÚĿ,ƢÚƣ->ŔðĿƣ                                   ...\n",
      "   6           TDOT        ŔðĿƣ,ĿÛŀ->ŔðƣÛŀ                                   ...\n",
      "   6           TDOT        ŔðƣÛŀ,ƣÛƤ->ŔðŀƤ                                   ...\n",
      "   6           TDOT        ŔðŀƤ,ŀÜŁ->ŔðƤÜŁ                                   ...\n",
      "   6           TDOT        ŔðƤÜŁ,ƤÜƥ->ŔðŁƥ                                   ...\n",
      "   6           TDOT        ŔðŁƥ,ŁÝł->ŔðƥÝł                                   ...\n",
      "   6           TDOT        ŔðƥÝł,ƥÝƦ->ŔðłƦ                                   ...\n",
      "   6           TDOT        ŔðłƦ,łÞŃ->ŔðƦÞŃ                                   ...\n",
      "   6           TDOT        ŔðƦÞŃ,ƦÞƧ->ŔðŃƧ                                   ...\n",
      "   6           TDOT        ŔðŃƧ,Ńßń->ŔðƧßń                                   ...\n",
      "   6           TDOT        ŔðƧßń,Ƨßƨ->Ŕðńƨ                                   ...\n",
      "   6           TDOT        Ŕðńƨ,ńàŅ->ŔðƨàŅ                                   ...\n",
      "   6           TDOT        ŔðƨàŅ,ƨàƩ->ŔðŅƩ    Ņáņ,ņâŇ,Ňãň,ňäŉ,ŉåŊ,Ŋæŋ,ŋçŌ,Ōèō,Ʃáƪ,ƪâƫ,ƫãƬ,Ƭäƭ,ƭåƮ,ƮæƯ,Ưçư,ưèƱ,êŏōé,êƳƱé,ƸŔŏƳ,ŔðŅƩ->ðƸ\n",
      "   6           TDOT        ŔðŅƩ,Ņáņ->ŔðƩáņ    ņâŇ,Ňãň,ňäŉ,ŉåŊ,Ŋæŋ,ŋçŌ,Ōèō,Ʃáƪ,ƪâƫ,ƫãƬ,Ƭäƭ,ƭåƮ,ƮæƯ,Ưçư,ưèƱ,êŏōé,êƳƱé,ƸŔŏƳ,ŔðƩáņ->ðƸ\n",
      "   6           TDOT        ŔðƩáņ,Ʃáƪ->Ŕðņƪ    ņâŇ,Ňãň,ňäŉ,ŉåŊ,Ŋæŋ,ŋçŌ,Ōèō,ƪâƫ,ƫãƬ,Ƭäƭ,ƭåƮ,ƮæƯ,Ưçư,ưèƱ,êŏōé,êƳƱé,ƸŔŏƳ,Ŕðņƪ->ðƸ\n",
      "   6           TDOT        Ŕðņƪ,ņâŇ->ŔðƪâŇ    Ňãň,ňäŉ,ŉåŊ,Ŋæŋ,ŋçŌ,Ōèō,ƪâƫ,ƫãƬ,Ƭäƭ,ƭåƮ,ƮæƯ,Ưçư,ưèƱ,êŏōé,êƳƱé,ƸŔŏƳ,ŔðƪâŇ->ðƸ\n",
      "   6           TDOT        ŔðƪâŇ,ƪâƫ->ŔðŇƫ    Ňãň,ňäŉ,ŉåŊ,Ŋæŋ,ŋçŌ,Ōèō,ƫãƬ,Ƭäƭ,ƭåƮ,ƮæƯ,Ưçư,ưèƱ,êŏōé,êƳƱé,ƸŔŏƳ,ŔðŇƫ->ðƸ\n",
      "   6           TDOT        ŔðŇƫ,Ňãň->Ŕðƫãň    ňäŉ,ŉåŊ,Ŋæŋ,ŋçŌ,Ōèō,ƫãƬ,Ƭäƭ,ƭåƮ,ƮæƯ,Ưçư,ưèƱ,êŏōé,êƳƱé,ƸŔŏƳ,Ŕðƫãň->ðƸ\n",
      "   6           TDOT        Ŕðƫãň,ƫãƬ->ŔðňƬ    ňäŉ,ŉåŊ,Ŋæŋ,ŋçŌ,Ōèō,Ƭäƭ,ƭåƮ,ƮæƯ,Ưçư,ưèƱ,êŏōé,êƳƱé,ƸŔŏƳ,ŔðňƬ->ðƸ\n",
      "   6           TDOT        ŔðňƬ,ňäŉ->ŔðƬäŉ    ŉåŊ,Ŋæŋ,ŋçŌ,Ōèō,Ƭäƭ,ƭåƮ,ƮæƯ,Ưçư,ưèƱ,êŏōé,êƳƱé,ƸŔŏƳ,ŔðƬäŉ->ðƸ\n",
      "   6           TDOT        ŔðƬäŉ,Ƭäƭ->Ŕðŉƭ    ŉåŊ,Ŋæŋ,ŋçŌ,Ōèō,ƭåƮ,ƮæƯ,Ưçư,ưèƱ,êŏōé,êƳƱé,ƸŔŏƳ,Ŕðŉƭ->ðƸ\n",
      "   6           TDOT        Ŕðŉƭ,ŉåŊ->ŔðƭåŊ    Ŋæŋ,ŋçŌ,Ōèō,ƭåƮ,ƮæƯ,Ưçư,ưèƱ,êŏōé,êƳƱé,ƸŔŏƳ,ŔðƭåŊ->ðƸ\n",
      "   6           TDOT        ŔðƭåŊ,ƭåƮ->ŔðŊƮ    Ŋæŋ,ŋçŌ,Ōèō,ƮæƯ,Ưçư,ưèƱ,êŏōé,êƳƱé,ƸŔŏƳ,ŔðŊƮ->ðƸ\n",
      "   6           TDOT        ŔðŊƮ,Ŋæŋ->ŔðƮæŋ    ŋçŌ,Ōèō,ƮæƯ,Ưçư,ưèƱ,êŏōé,êƳƱé,ƸŔŏƳ,ŔðƮæŋ->ðƸ\n",
      "   6           TDOT        ŔðƮæŋ,ƮæƯ->ŔðŋƯ    ŋçŌ,Ōèō,Ưçư,ưèƱ,êŏōé,êƳƱé,ƸŔŏƳ,ŔðŋƯ->ðƸ\n",
      "   6           TDOT        ŔðŋƯ,ŋçŌ->ŔðƯçŌ    Ōèō,Ưçư,ưèƱ,êŏōé,êƳƱé,ƸŔŏƳ,ŔðƯçŌ->ðƸ\n",
      "   6           TDOT        ŔðƯçŌ,Ưçư->ŔðŌư       Ōèō,ưèƱ,êŏōé,êƳƱé,ƸŔŏƳ,ŔðŌư->ðƸ\n",
      "   6           TDOT        ŔðŌư,Ōèō->Ŕðưèō          ưèƱ,êŏōé,êƳƱé,ƸŔŏƳ,Ŕðưèō->ðƸ\n",
      "   6           TDOT        Ŕðưèō,ưèƱ->ŔðōƱ               êŏōé,êƳƱé,ƸŔŏƳ,ŔðōƱ->ðƸ\n",
      "   7           TDOT      ŔðōƱ,êŏōé->ŔðƱêŏé                  êƳƱé,ƸŔŏƳ,ŔðƱêŏé->ðƸ\n",
      "   7           TDOT      ŔðƱêŏé,êƳƱé->ŔðŏƳ                         ƸŔŏƳ,ŔðŏƳ->ðƸ\n",
      "   5           TDOT          ŔðŏƳ,ƸŔŏƳ->ðƸ                                ðƸ->ðƸ\n"
     ]
    }
   ],
   "source": [
    "path_info = oe.contract_path(einsum_str, *tn, *tn)\n",
    "print(path_info[1])"
   ]
  }
 ],
 "metadata": {
  "kernelspec": {
   "display_name": "Python 3 (ipykernel)",
   "language": "python",
   "name": "python3"
  },
  "language_info": {
   "codemirror_mode": {
    "name": "ipython",
    "version": 3
   },
   "file_extension": ".py",
   "mimetype": "text/x-python",
   "name": "python",
   "nbconvert_exporter": "python",
   "pygments_lexer": "ipython3",
   "version": "3.13.2"
  }
 },
 "nbformat": 4,
 "nbformat_minor": 5
}
